{
  "cells": [
    {
      "cell_type": "markdown",
      "metadata": {
        "id": "HtSCej8w0k2S"
      },
      "source": [
        "# Using KNN Model to Predict Employee Performance"
      ]
    },
    {
      "cell_type": "markdown",
      "metadata": {
        "id": "EZro-5Oh0keC"
      },
      "source": [
        "Importing libraries"
      ]
    },
    {
      "cell_type": "code",
      "execution_count": null,
      "metadata": {
        "colab": {
          "base_uri": "https://localhost:8080/"
        },
        "id": "ONfHbncauKeu",
        "outputId": "4a3775ab-5d2f-4354-cb8b-7d791523df47"
      },
      "outputs": [],
      "source": [
        "import numpy as np\n",
        "import pandas as pd\n",
        "from sklearn.model_selection import train_test_split , RandomizedSearchCV, GridSearchCV\n",
        "from sklearn.preprocessing import StandardScaler, OneHotEncoder\n",
        "from sklearn.compose import ColumnTransformer\n",
        "from sklearn.impute import SimpleImputer\n",
        "from sklearn.pipeline import Pipeline\n",
        "from sklearn.neighbors import KNeighborsClassifier\n",
        "from sklearn.metrics import classification_report, accuracy_score\n",
        "from scipy.stats import randint\n",
        "import optuna\n",
        "pd.set_option(\"display.max_columns\", None)"
      ]
    },
    {
      "cell_type": "markdown",
      "metadata": {
        "id": "8hjwOvZjn-VN"
      },
      "source": [
        "Read Data"
      ]
    },
    {
      "cell_type": "code",
      "execution_count": null,
      "metadata": {
        "colab": {
          "base_uri": "https://localhost:8080/",
          "height": 292
        },
        "id": "aRyz2CDLuR92",
        "outputId": "f5a8451e-3b77-4737-fd80-6012ae1c0201"
      },
      "outputs": [],
      "source": [
        "df = pd.read_csv('../data/processed/HRDataset_p_v4.csv', index_col=0)\n",
        "df.head()"
      ]
    },
    {
      "cell_type": "code",
      "execution_count": 3,
      "metadata": {
        "id": "fwWBnBy-hvDe"
      },
      "outputs": [],
      "source": [
        "\n",
        "categorical_features = [\n",
        "    'GenderID',\n",
        "    'FromDiversityJobFairID',\n",
        "    'State',\n",
        "    'CitizenDesc',\n",
        "    'HispanicLatino',\n",
        "    'RaceDesc',\n",
        "    'Department',\n",
        "    'ManagerName',\n",
        "    'RecruitmentSource',\n",
        "    'HireYear',\n",
        "    'HireMonth'\n",
        "]\n",
        "numeric_features = [\n",
        "    'Salary',\n",
        "    'EmpSatisfaction',\n",
        "    'SpecialProjectsCount',\n",
        "    'DaysLateLast30',\n",
        "    'Absences',\n",
        "    'Age',\n",
        "    'NumberOfColleagues'\n",
        "]\n",
        "label = 'PerfScoreID'"
      ]
    },
    {
      "cell_type": "code",
      "execution_count": null,
      "metadata": {
        "colab": {
          "base_uri": "https://localhost:8080/"
        },
        "id": "gfknmjzahzg-",
        "outputId": "9b5071d7-c37a-44f1-b712-b3d7ce999482"
      },
      "outputs": [],
      "source": [
        "df.shape"
      ]
    },
    {
      "cell_type": "markdown",
      "metadata": {
        "id": "rLqtr_7jh56J"
      },
      "source": [
        "Split the Data"
      ]
    },
    {
      "cell_type": "code",
      "execution_count": 5,
      "metadata": {
        "id": "aYoBreTch44k"
      },
      "outputs": [],
      "source": [
        "\n",
        "# Separate features and labels\n",
        "X = df.drop(columns=[label])\n",
        "y = df[label]\n",
        "\n",
        "# Split into training and testing sets (80% train, 20% test)\n",
        "X_train, X_test, y_train, y_test = train_test_split(X, y, test_size=0.2, random_state=42)"
      ]
    },
    {
      "cell_type": "markdown",
      "metadata": {
        "id": "i016cSXSiDon"
      },
      "source": [
        "Encode and Scale"
      ]
    },
    {
      "cell_type": "code",
      "execution_count": 6,
      "metadata": {
        "id": "pvmoGQTIiB93"
      },
      "outputs": [],
      "source": [
        "\n",
        "# Create a ColumnTransformer for preprocessing\n",
        "preprocessor = ColumnTransformer(\n",
        "    transformers=[\n",
        "        ('num', Pipeline(steps=[\n",
        "            ('imputer', SimpleImputer(strategy='mean')),  # we don't have missing numerical values\n",
        "            ('scaler', StandardScaler())\n",
        "        ]), numeric_features),\n",
        "        ('cat', Pipeline(steps=[\n",
        "            ('imputer', SimpleImputer(strategy='most_frequent')),\n",
        "            ('encoder', OneHotEncoder())\n",
        "        ]), categorical_features)\n",
        "    ])"
      ]
    },
    {
      "cell_type": "code",
      "execution_count": null,
      "metadata": {
        "colab": {
          "base_uri": "https://localhost:8080/"
        },
        "id": "_MSr_DbxYDyu",
        "outputId": "59ec4138-b079-4a2e-f407-72f8ef0a4283"
      },
      "outputs": [],
      "source": [
        "# Define a pipeline for KNN classification\n",
        "knn_model = Pipeline(steps=[\n",
        "    ('preprocessor', preprocessor),\n",
        "    ('classifier', KNeighborsClassifier(n_neighbors=5))  # Using KNN classifier\n",
        "])\n",
        "\n",
        "# Fit the model\n",
        "knn_model.fit(X_train, y_train)\n",
        "\n",
        "# Make predictions\n",
        "y_pred = knn_model.predict(X_test)\n",
        "\n",
        "accuracy = np.mean(y_pred == y_test)\n",
        "\n",
        "# Log accuracy and classification report\n",
        "print(f\"KNN Accuracy: {accuracy}\")\n",
        "print(f\"KNN Classification Report:\")\n",
        "print(classification_report(y_test, y_pred))\n"
      ]
    },
    {
      "cell_type": "markdown",
      "metadata": {
        "id": "fni2f9bOvSCc"
      },
      "source": [
        "# Model optimization"
      ]
    },
    {
      "cell_type": "markdown",
      "metadata": {
        "id": "9VcxQmXivVAW"
      },
      "source": [
        "Useing Random Search"
      ]
    },
    {
      "cell_type": "code",
      "execution_count": null,
      "metadata": {
        "colab": {
          "base_uri": "https://localhost:8080/"
        },
        "id": "jFz3d8X0f6ae",
        "outputId": "8ec2bde8-f558-44db-9d24-c435f4567849"
      },
      "outputs": [],
      "source": [
        "\n",
        "# Define the hyperparameter space for RandomizedSearchCV\n",
        "param_dist = {\n",
        "    'classifier__n_neighbors': randint(1, 20),  # Random integers from 1 to 20\n",
        "    'classifier__weights': ['uniform', 'distance'],\n",
        "    'classifier__metric': ['euclidean', 'manhattan']\n",
        "}\n",
        "\n",
        "# Use RandomizedSearchCV for hyperparameter tuning\n",
        "random_search = RandomizedSearchCV(knn_model, param_dist, n_iter=10, cv=5, n_jobs=-1, scoring='accuracy', random_state=42)\n",
        "random_search.fit(X_train, y_train)\n",
        "\n",
        "# Output the best parameters\n",
        "print(\"Best Parameters:\", random_search.best_params_)\n",
        "print(\"Best Accuracy:\", random_search.best_score_)\n",
        "\n",
        "# Optionally, retrain the model with the best parameters\n",
        "best_knn_model = random_search.best_estimator_\n",
        "\n",
        "# Evaluate the best model\n",
        "y_pred = best_knn_model.predict(X_test)\n",
        "\n",
        "accuracy_random = accuracy_score(y_test, y_pred)\n",
        "print(f\"KNN Test Accuracy: {accuracy_random:.2f}\")\n",
        "print(\"KNN Classification Report:\")\n",
        "print(classification_report(y_test, y_pred))"
      ]
    },
    {
      "cell_type": "markdown",
      "metadata": {
        "id": "dGdQ6YdDwDoq"
      },
      "source": [
        "Useing Grid Search"
      ]
    },
    {
      "cell_type": "code",
      "execution_count": null,
      "metadata": {
        "colab": {
          "base_uri": "https://localhost:8080/"
        },
        "id": "VPdFD51JmxxL",
        "outputId": "6b4d7e5f-89aa-412b-9418-33da5565ec28"
      },
      "outputs": [],
      "source": [
        "\n",
        "# Define the parameter grid for GridSearchCV\n",
        "param_grid = {\n",
        "    'classifier__n_neighbors': np.arange(1, 21),  # Values from 1 to 20\n",
        "    'classifier__weights': ['uniform', 'distance'],\n",
        "    'classifier__metric': ['euclidean', 'manhattan']\n",
        "}\n",
        "\n",
        "# Use GridSearchCV for hyperparameter tuning\n",
        "grid_search = GridSearchCV(knn_model, param_grid, cv=5, n_jobs=-1, scoring='accuracy')\n",
        "grid_search.fit(X_train, y_train)\n",
        "\n",
        "# Output the best parameters\n",
        "print(\"Best Parameters:\", grid_search.best_params_)\n",
        "print(\"Best Accuracy:\", grid_search.best_score_)\n",
        "\n",
        "# Optionally, retrain the model with the best parameters\n",
        "best_knn_model = grid_search.best_estimator_\n",
        "\n",
        "# Evaluate the best model\n",
        "y_pred = best_knn_model.predict(X_test)\n",
        "\n",
        "accuracy_grid = accuracy_score(y_test, y_pred)\n",
        "print(f\"KNN Test Accuracy: {accuracy_grid:.2f}\")\n",
        "print(\"KNN Classification Report:\")\n",
        "print(classification_report(y_test, y_pred))"
      ]
    },
    {
      "cell_type": "markdown",
      "metadata": {
        "id": "WE6jAxb1yQDY"
      },
      "source": [
        "Using Optuna"
      ]
    },
    {
      "cell_type": "code",
      "execution_count": null,
      "metadata": {
        "colab": {
          "base_uri": "https://localhost:8080/"
        },
        "id": "11fqwK-NwwCU",
        "outputId": "41447dbe-e1f9-4eee-a0e5-fa0cb6da9282"
      },
      "outputs": [],
      "source": [
        "# Define the objective function for Optuna\n",
        "def objective(trial):\n",
        "    # Suggest hyperparameters\n",
        "    n_neighbors = trial.suggest_int('n_neighbors', 1, 20)\n",
        "    weights = trial.suggest_categorical('weights', ['uniform', 'distance'])\n",
        "    metric = trial.suggest_categorical('metric', ['euclidean', 'manhattan'])\n",
        "\n",
        "    # Create the KNN model\n",
        "    knn_model = Pipeline(steps=[\n",
        "        ('preprocessor', preprocessor),\n",
        "        ('classifier', KNeighborsClassifier(n_neighbors=n_neighbors, weights=weights, metric=metric))\n",
        "    ])\n",
        "\n",
        "    # Fit the model\n",
        "    knn_model.fit(X_train, y_train)\n",
        "\n",
        "    # Make predictions and calculate accuracy\n",
        "    y_pred = knn_model.predict(X_test)\n",
        "    accuracy = accuracy_score(y_test, y_pred)\n",
        "\n",
        "    return accuracy\n",
        "\n",
        "# Create a study and optimize the objective function\n",
        "study = optuna.create_study(direction='maximize')\n",
        "study.optimize(objective, n_trials=50)  # You can adjust the number of trials\n",
        "\n",
        "# Output the best parameters\n",
        "print(\"Best Parameters:\", study.best_params)\n",
        "print(\"Best Accuracy:\", study.best_value)\n",
        "\n",
        "# Optionally, retrain the model with the best parameters\n",
        "best_params = study.best_params\n",
        "best_knn_model = Pipeline(steps=[\n",
        "    ('preprocessor', preprocessor),\n",
        "    ('classifier', KNeighborsClassifier(\n",
        "        n_neighbors=best_params['n_neighbors'],\n",
        "        weights=best_params['weights'],\n",
        "        metric=best_params['metric']\n",
        "    ))\n",
        "])\n",
        "\n",
        "# Fit and evaluate the best model\n",
        "best_knn_model.fit(X_train, y_train)\n",
        "y_pred = best_knn_model.predict(X_test)\n",
        "\n",
        "\n",
        "accuracy_optuna = accuracy_score(y_test, y_pred)\n",
        "print(f\"KNN Test Accuracy: {accuracy_optuna:.2f}\")\n",
        "# Log classification report\n",
        "print(\"KNN Classification Report:\")\n",
        "print(classification_report(y_test, y_pred))"
      ]
    },
    {
      "cell_type": "code",
      "execution_count": null,
      "metadata": {
        "id": "rOUIWtm7xkaH"
      },
      "outputs": [],
      "source": []
    }
  ],
  "metadata": {
    "colab": {
      "provenance": []
    },
    "kernelspec": {
      "display_name": "Python 3",
      "name": "python3"
    },
    "language_info": {
      "codemirror_mode": {
        "name": "ipython",
        "version": 3
      },
      "file_extension": ".py",
      "mimetype": "text/x-python",
      "name": "python",
      "nbconvert_exporter": "python",
      "pygments_lexer": "ipython3",
      "version": "3.12.4"
    }
  },
  "nbformat": 4,
  "nbformat_minor": 0
}

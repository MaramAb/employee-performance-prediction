{
  "cells": [
    {
      "cell_type": "markdown",
      "metadata": {
        "id": "mLPewM2Jjswy"
      },
      "source": [
        "# Modeling\n",
        "XGBoost and LightGBM\n"
      ]
    },
    {
      "cell_type": "markdown",
      "metadata": {
        "id": "99btlNKFjsw2"
      },
      "source": [
        "## Import Libraries"
      ]
    },
    {
      "cell_type": "code",
      "execution_count": null,
      "metadata": {
        "id": "exTuXfPrjsw4"
      },
      "outputs": [],
      "source": [
        "import numpy as np\n",
        "import pandas as pd\n",
        "from sklearn.model_selection import train_test_split\n",
        "from sklearn.preprocessing import StandardScaler, OneHotEncoder\n",
        "from sklearn.compose import ColumnTransformer\n",
        "from sklearn.impute import SimpleImputer\n",
        "from sklearn.pipeline import Pipeline\n",
        "from xgboost import XGBClassifier\n",
        "from sklearn.model_selection import GridSearchCV, RandomizedSearchCV, KFold\n",
        "from lightgbm import LGBMClassifier\n",
        "from sklearn.metrics import accuracy_score\n",
        "import seaborn as sns\n",
        "import matplotlib.pyplot as plt\n",
        "import optuna\n",
        "from sklearn.metrics import classification_report, confusion_matrix\n",
        "pd.set_option(\"display.max_columns\", None)"
      ]
    },
    {
      "cell_type": "code",
      "execution_count": null,
      "metadata": {
        "id": "VyPTINpBjsw-",
        "outputId": "0292e1b4-9157-4a66-dd12-49a1a4a6c1b3"
      },
      "outputs": [],
      "source": [
        "df = pd.read_csv('../data/processed/HRDataset_p_v4.csv')\n",
        "df.head()"
      ]
    },
    {
      "cell_type": "code",
      "execution_count": null,
      "metadata": {
        "id": "I5BNGgcojsxB"
      },
      "outputs": [],
      "source": [
        "categorical_features = [\n",
        "    'GenderID',\n",
        "    'FromDiversityJobFairID',\n",
        "    'State',\n",
        "    'CitizenDesc',\n",
        "    'HispanicLatino',\n",
        "    'RaceDesc',\n",
        "    'Department',\n",
        "    'ManagerName',\n",
        "    'RecruitmentSource',\n",
        "    'HireYear',\n",
        "    'HireMonth'\n",
        "]\n",
        "numeric_features = [\n",
        "    'Salary',\n",
        "    'EngagementSurvey',\n",
        "    'EmpSatisfaction',\n",
        "    'SpecialProjectsCount',\n",
        "    'DaysLateLast30',\n",
        "    'Absences',\n",
        "    'Age',\n",
        "    'NumberOfColleagues'\n",
        "]\n",
        "label = 'PerfScoreID'"
      ]
    },
    {
      "cell_type": "markdown",
      "metadata": {
        "id": "c2EkHhldjsxD"
      },
      "source": [
        "### Split the Data"
      ]
    },
    {
      "cell_type": "code",
      "execution_count": null,
      "metadata": {
        "id": "vsqtR4SnjsxE"
      },
      "outputs": [],
      "source": [
        "# Separate features and labels\n",
        "X = df.drop(columns=[label])\n",
        "y = df[label]\n",
        "y = y - 1\n",
        "\n",
        "# Split into training and testing sets (80% train, 20% test)\n",
        "X_train, X_test, y_train, y_test = train_test_split(X, y, test_size=0.2, random_state=42, stratify=y)\n"
      ]
    },
    {
      "cell_type": "markdown",
      "metadata": {
        "id": "XS67g6aDjsxG"
      },
      "source": [
        "### Encode and Scale"
      ]
    },
    {
      "cell_type": "code",
      "execution_count": null,
      "metadata": {
        "id": "mmaJVB7GjsxG"
      },
      "outputs": [],
      "source": [
        "# Create a ColumnTransformer for preprocessing\n",
        "preprocessor = ColumnTransformer(\n",
        "    transformers=[\n",
        "        ('num', Pipeline(steps=[\n",
        "            ('imputer', SimpleImputer(strategy='mean')),  # We don't have missing numerical values\n",
        "            ('scaler', StandardScaler())\n",
        "        ]), numeric_features),\n",
        "        ('cat', Pipeline(steps=[\n",
        "            ('imputer', SimpleImputer(strategy='most_frequent')),\n",
        "            ('encoder', OneHotEncoder(handle_unknown='ignore'))  # Handle unknown categories\n",
        "        ]), categorical_features)\n",
        "    ]\n",
        ")\n"
      ]
    },
    {
      "cell_type": "code",
      "execution_count": null,
      "metadata": {
        "id": "SvMvoDLVv13F"
      },
      "outputs": [],
      "source": [
        "kfold = KFold(n_splits=5, shuffle=True, random_state=42)"
      ]
    },
    {
      "cell_type": "markdown",
      "metadata": {},
      "source": [
        "## Model Training"
      ]
    },
    {
      "cell_type": "code",
      "execution_count": null,
      "metadata": {
        "id": "s0233Ne7jsxH"
      },
      "outputs": [],
      "source": [
        "# Define pipelines for classification\n",
        "# Define pipelines for both classifiers\n",
        "classifiers = {\n",
        "    'XGBoost': Pipeline(steps=[\n",
        "        ('preprocessor', preprocessor),\n",
        "        ('classifier', XGBClassifier(use_label_encoder=False, eval_metric='logloss'))\n",
        "    ]),\n",
        "    'LightGBM': Pipeline(steps=[\n",
        "        ('preprocessor', preprocessor),\n",
        "        ('classifier', LGBMClassifier())\n",
        "    ])\n",
        "}"
      ]
    },
    {
      "cell_type": "code",
      "execution_count": null,
      "metadata": {
        "id": "umwZS1AIjsxI"
      },
      "outputs": [],
      "source": [
        "# Define pipelines for both classifiers\n",
        "classifiers = {\n",
        "    'XGBoost': Pipeline(steps=[\n",
        "        ('preprocessor', preprocessor),\n",
        "        ('classifier', XGBClassifier())\n",
        "    ]),\n",
        "    'LightGBM': Pipeline(steps=[\n",
        "        ('preprocessor', preprocessor),\n",
        "        ('classifier', LGBMClassifier())\n",
        "    ])\n",
        "}\n",
        "\n",
        "# Define parameter grids for GridSearchCV with multiple values\n",
        "param_grids = {\n",
        "    'XGBoost': {\n",
        "        'classifier__n_estimators': [10, 20, 30, 40, 50, 70, 100],  # Different numbers of trees\n",
        "        'classifier__max_depth': [1, 3, 5, 7, 9],          # Different tree depths\n",
        "        'classifier__learning_rate': [0.01, 0.03, 0.05, 0.1] # Different learning rates\n",
        "    },\n",
        "    'LightGBM': {\n",
        "        'classifier__n_estimators': [10, 20, 30, 40, 50, 70, 100],  # Different numbers of trees\n",
        "        'classifier__max_depth': [1, 3, 5, 7, 9],          # Different tree depths\n",
        "        'classifier__learning_rate': [0.01, 0.03, 0.05, 0.1], # Different learning rates\n",
        "       'classifier__min_data_in_leaf': [1,2,3]\n",
        "    }\n",
        "}\n",
        "\n",
        "param_distributions = {\n",
        "    'XGBoost': {\n",
        "        'classifier__n_estimators': np.random.randint(10,100, size=10).tolist(),  # Random integers between 50 and 150\n",
        "        'classifier__max_depth':  np.random.randint(1,7, size=10).tolist(),\n",
        "        'classifier__learning_rate':  np.random.random((0,1)).tolist()\n",
        "    },\n",
        "    'LightGBM': {\n",
        "        'classifier__n_estimators':  np.random.randint(10,100, size=10).tolist(),  # Random integers between 50 and 150\n",
        "        'classifier__max_depth': np.random.randint(1,7, size=10).tolist(),\n",
        "        'classifier__learning_rate': np.random.random((0,1)).tolist(),\n",
        "        'classifier__min_data_in_leaf': [1,2,3]\n",
        "    }\n",
        "}\n"
      ]
    },
    {
      "cell_type": "markdown",
      "metadata": {},
      "source": [
        "### No Tuning"
      ]
    },
    {
      "cell_type": "code",
      "execution_count": null,
      "metadata": {
        "collapsed": true,
        "id": "a6WxSO3SjsxI",
        "outputId": "33d1fbf7-1e2c-4ebe-bb37-ae4a44aa5cc8"
      },
      "outputs": [],
      "source": [
        "for name, model in classifiers.items():\n",
        "    model.fit(X_train, y_train)\n",
        "    y_pred = model.predict(X_test)\n",
        "\n",
        "\n",
        "    print(f\"{name} Accuracy: {np.mean(y_pred == y_test)}\")\n",
        "    print(f\"{name} Classification Report:\")\n",
        "    print(classification_report(y_test, y_pred))"
      ]
    },
    {
      "cell_type": "markdown",
      "metadata": {},
      "source": [
        "### Grid Search"
      ]
    },
    {
      "cell_type": "code",
      "execution_count": null,
      "metadata": {
        "id": "pSzUO-xLjsxJ",
        "outputId": "551262de-4aa2-4598-aec6-03b7539235f3"
      },
      "outputs": [],
      "source": [
        "#Gridsearch optimization\n",
        "\n",
        "for name, model in classifiers.items():\n",
        "    grid_search = GridSearchCV(estimator=model,\n",
        "                               param_grid=param_grids[name],\n",
        "                               scoring='accuracy',\n",
        "                               cv=kfold,\n",
        "                               verbose=1,\n",
        "                               n_jobs=-1,\n",
        "                               error_score='raise')\n",
        "    #model.fit(X_train, y_train)\n",
        "    grid_search.fit(X_train, y_train)\n",
        "\n",
        "    #y_pred = model.predict(X_test)\n",
        "    best_model = grid_search.best_estimator_\n",
        "    y_pred = best_model.predict(X_test)\n",
        "\n",
        "   # plot the confusion matrix as a heatmap\n",
        "    cm = confusion_matrix(y_test, y_pred)\n",
        "    ax = sns.heatmap(cm, annot=True, cmap=\"Blues\", fmt=\"d\")\n",
        "    ax.set_title(name + \" Confusion Matrix\")\n",
        "    ax.set_xlabel(\"Predicted Label\")\n",
        "    ax.set_ylabel(\"True Label\")\n",
        "    plt.show()\n",
        "\n",
        "    print(f\"{name} Accuracy: {np.mean(y_pred == y_test)}\")\n",
        "    print(f\"{name} Classification Report:\")\n",
        "    print(classification_report(y_test, y_pred))\n",
        "    print('Best hyperparameters are: '+str(grid_search.best_estimator_))"
      ]
    },
    {
      "cell_type": "markdown",
      "metadata": {},
      "source": [
        "### Random Search"
      ]
    },
    {
      "cell_type": "code",
      "execution_count": null,
      "metadata": {
        "id": "AVU_kCFmjsxJ",
        "outputId": "b741f3e8-5952-40e4-fa44-874e675bafe4"
      },
      "outputs": [],
      "source": [
        "for name, model in classifiers.items():\n",
        "    random_search = RandomizedSearchCV(estimator=classifiers,\n",
        "                                       param_distributions=param_distributions[name],\n",
        "                                       n_iter=10,  # Number of parameter settings to sample\n",
        "                                       scoring='accuracy',\n",
        "                                       cv=kfold,\n",
        "                                       verbose=1,\n",
        "                                       n_jobs=-1,\n",
        "                                       random_state=42,\n",
        "                                       error_score='raise')\n",
        "    #model.fit(X_train, y_train)\n",
        "    grid_search.fit(X_train, y_train)\n",
        "\n",
        "    #y_pred = model.predict(X_test)\n",
        "    best_model = grid_search.best_estimator_\n",
        "    y_pred = best_model.predict(X_test)\n",
        "\n",
        "   # plot the confusion matrix as a heatmap\n",
        "    cm = confusion_matrix(y_test, y_pred)\n",
        "    ax = sns.heatmap(cm, annot=True, cmap=\"Blues\", fmt=\"d\")\n",
        "    ax.set_title(name + \" Confusion Matrix\")\n",
        "    ax.set_xlabel(\"Predicted Label\")\n",
        "    ax.set_ylabel(\"True Label\")\n",
        "    plt.show()\n",
        "\n",
        "    print(f\"{name} Accuracy: {np.mean(y_pred == y_test)}\")\n",
        "    print(f\"{name} Classification Report:\")\n",
        "    print(classification_report(y_test, y_pred))\n",
        "    print('Best hyperparameters are: '+str(grid_search.best_params_))"
      ]
    },
    {
      "cell_type": "markdown",
      "metadata": {},
      "source": [
        "### Optuna"
      ]
    },
    {
      "cell_type": "code",
      "execution_count": null,
      "metadata": {
        "id": "3CP2mzrfjsxK",
        "outputId": "03f1d3ae-33f0-4470-f523-f600c9d765fa"
      },
      "outputs": [],
      "source": [
        "# Define the objective function for Optuna\n",
        "def objective(trial, model_name):\n",
        "    if model_name == 'XGBoost':\n",
        "        n_estimators = trial.suggest_int('n_estimators', 50, 150, step=50)\n",
        "        max_depth = trial.suggest_int('max_depth', 3, 7)\n",
        "        learning_rate = trial.suggest_loguniform('learning_rate', 0.01, 0.2)\n",
        "\n",
        "        model = XGBClassifier(n_estimators=n_estimators, max_depth=max_depth, learning_rate=learning_rate, use_label_encoder=False, eval_metric='logloss')\n",
        "    else:  # LightGBM\n",
        "        n_estimators = trial.suggest_int('n_estimators', 50, 150, step=50)\n",
        "        max_depth = trial.suggest_int('max_depth', 3, 7)\n",
        "        learning_rate = trial.suggest_loguniform('learning_rate', 0.01, 0.2)\n",
        "        min_data_in_leaf = trial.suggest_int('min_data_in_leaf', 1, 15)\n",
        "\n",
        "        model = LGBMClassifier(n_estimators=n_estimators, max_depth=max_depth, learning_rate=learning_rate, min_data_in_leaf=min_data_in_leaf)\n",
        "\n",
        "    # Perform k-fold cross-validation\n",
        "    scores = []\n",
        "\n",
        "    for train_index, valid_index in kfold.split(X_train):\n",
        "        X_fold_train, X_fold_valid = X_train.iloc[train_index], X_train.iloc[valid_index]\n",
        "        y_fold_train, y_fold_valid = y_train.iloc[train_index], y_train.iloc[valid_index]\n",
        "\n",
        "        # Preprocessing\n",
        "        X_fold_train_processed = preprocessor.fit_transform(X_fold_train)\n",
        "        X_fold_valid_processed = preprocessor.transform(X_fold_valid)\n",
        "\n",
        "        model.fit(X_fold_train_processed, y_fold_train)\n",
        "        y_valid_pred = model.predict(X_fold_valid_processed)\n",
        "        score = accuracy_score(y_fold_valid, y_valid_pred)\n",
        "        scores.append(score)\n",
        "\n",
        "    return np.mean(scores)\n",
        "\n",
        "# Optimize hyperparameters for both models\n",
        "for model_name in ['XGBoost', 'LightGBM']:\n",
        "    print(f\"Starting Optuna optimization for {model_name}...\")\n",
        "    study = optuna.create_study(direction='maximize')\n",
        "    study.optimize(lambda trial: objective(trial, model_name), n_trials=30)\n",
        "\n",
        "    # Print the best parameters and best score\n",
        "    print(f\"Best hyperparameters for {model_name}: {study.best_params}\")\n",
        "    print(f\"Best cross-validated score for {model_name}: {study.best_value}\")\n",
        "\n",
        "    # Train the best model on the entire training set and evaluate\n",
        "    if model_name == 'XGBoost':\n",
        "        best_model = XGBClassifier(**study.best_params, use_label_encoder=False, eval_metric='logloss')\n",
        "    else:\n",
        "        best_model = LGBMClassifier(**study.best_params)\n",
        "\n",
        "    # Fit the model on the full training data\n",
        "    X_train_processed = preprocessor.fit_transform(X_train)\n",
        "    best_model.fit(X_train_processed, y_train)\n",
        "\n",
        "    # Predict on the test set\n",
        "    X_test_processed = preprocessor.transform(X_test)\n",
        "    y_pred = best_model.predict(X_test_processed)\n",
        "\n",
        "    # Plot the confusion matrix as a heatmap\n",
        "    cm = confusion_matrix(y_test, y_pred)\n",
        "    ax = sns.heatmap(cm, annot=True, cmap=\"Blues\", fmt=\"d\")\n",
        "    ax.set_title(f\"{model_name} Confusion Matrix\")\n",
        "    ax.set_xlabel(\"Predicted Label\")\n",
        "    ax.set_ylabel(\"True Label\")\n",
        "    plt.show()\n",
        "\n",
        "    # Print metrics\n",
        "    accuracy = accuracy_score(y_test, y_pred)\n",
        "    class_report = classification_report(y_test, y_pred)\n",
        "\n",
        "    print(f\"{model_name} Accuracy: {accuracy:.4f}\")\n",
        "    print(f\"{model_name} Classification Report:\\n{class_report}\")"
      ]
    },
    {
      "cell_type": "code",
      "execution_count": null,
      "metadata": {
        "id": "ysAkN4sev13O"
      },
      "outputs": [],
      "source": []
    }
  ],
  "metadata": {
    "colab": {
      "provenance": []
    },
    "kernelspec": {
      "display_name": "base",
      "language": "python",
      "name": "python3"
    },
    "language_info": {
      "codemirror_mode": {
        "name": "ipython",
        "version": 3
      },
      "file_extension": ".py",
      "mimetype": "text/x-python",
      "name": "python",
      "nbconvert_exporter": "python",
      "pygments_lexer": "ipython3",
      "version": "3.10.9"
    }
  },
  "nbformat": 4,
  "nbformat_minor": 0
}

{
  "cells": [
    {
      "cell_type": "markdown",
      "metadata": {
        "id": "OmR-B63fmiw2"
      },
      "source": [
        "# Modeling"
      ]
    },
    {
      "cell_type": "markdown",
      "metadata": {
        "id": "eWWeAuMMmiw3"
      },
      "source": [
        "## Import Libraries"
      ]
    },
    {
      "cell_type": "code",
      "execution_count": null,
      "metadata": {
        "id": "6YsCyd8uSrDy"
      },
      "outputs": [],
      "source": [
        "import numpy as np\n",
        "import pandas as pd\n",
        "from sklearn.model_selection import train_test_split\n",
        "from sklearn.preprocessing import LabelEncoder, StandardScaler, OneHotEncoder\n",
        "from sklearn.compose import ColumnTransformer\n",
        "from sklearn.impute import SimpleImputer\n",
        "from sklearn.pipeline import Pipeline\n",
        "from sklearn.ensemble import RandomForestClassifier\n",
        "from sklearn.svm import SVC\n",
        "from sklearn.model_selection import GridSearchCV, RandomizedSearchCV\n",
        "\n",
        "from sklearn.metrics import accuracy_score\n",
        "import seaborn as sns\n",
        "import matplotlib.pyplot as plt\n",
        "from sklearn.metrics import classification_report, confusion_matrix, mean_squared_error\n",
        "pd.set_option(\"display.max_columns\", None)"
      ]
    },
    {
      "cell_type": "code",
      "execution_count": null,
      "metadata": {
        "colab": {
          "base_uri": "https://localhost:8080/",
          "height": 292
        },
        "id": "H7dUw2sSEIU9",
        "outputId": "01d2eb72-85ed-4385-f695-1bf10326e583"
      },
      "outputs": [],
      "source": [
        "file_path = '../data/processed/HRDataset_p_v4.csv'\n",
        "df = pd.read_csv(file_path, index_col=0)\n",
        "\n",
        "df.head()"
      ]
    },
    {
      "cell_type": "code",
      "execution_count": null,
      "metadata": {
        "id": "mKL8P_2QEIEy"
      },
      "outputs": [],
      "source": [
        "categorical_features = [\n",
        "    'GenderID',\n",
        "    'FromDiversityJobFairID',\n",
        "    'State',\n",
        "    'CitizenDesc',\n",
        "    'HispanicLatino',\n",
        "    'RaceDesc',\n",
        "    'Department',\n",
        "    'ManagerName',\n",
        "    'RecruitmentSource',\n",
        "    'HireYear',\n",
        "    'HireMonth'\n",
        "]\n",
        "numeric_features = [\n",
        "    'Salary',\n",
        "    'EngagementSurvey',\n",
        "    'EmpSatisfaction',\n",
        "    'SpecialProjectsCount',\n",
        "    'DaysLateLast30',\n",
        "    'Absences',\n",
        "    'Age',\n",
        "    'NumberOfColleagues'\n",
        "]\n",
        "label = 'PerfScoreID'"
      ]
    },
    {
      "cell_type": "code",
      "execution_count": null,
      "metadata": {
        "id": "_UZHY3trmiw5",
        "outputId": "1f12d6be-f396-481d-d011-48039d12c42c"
      },
      "outputs": [],
      "source": [
        "df.shape"
      ]
    },
    {
      "cell_type": "markdown",
      "metadata": {
        "id": "rszobX80EhPj"
      },
      "source": [
        "### Split the Data"
      ]
    },
    {
      "cell_type": "code",
      "execution_count": null,
      "metadata": {
        "id": "Y-xRkoSxEcMh"
      },
      "outputs": [],
      "source": [
        "# Separate features and labels\n",
        "X = df[categorical_features + numeric_features]\n",
        "y = df[label]\n",
        "# Split into training and testing sets (80% train, 20% test)\n",
        "X_train, X_test, y_train, y_test = train_test_split(X, y, test_size=0.2, random_state=42)"
      ]
    },
    {
      "cell_type": "markdown",
      "metadata": {
        "id": "-KuxBWaZFhLI"
      },
      "source": [
        "### Encode and Scale"
      ]
    },
    {
      "cell_type": "code",
      "execution_count": null,
      "metadata": {
        "id": "9bcfwDeNE52m"
      },
      "outputs": [],
      "source": [
        "# Create a ColumnTransformer for preprocessing\n",
        "preprocessor = ColumnTransformer(\n",
        "    transformers=[\n",
        "        ('num', Pipeline(steps=[\n",
        "            ('imputer', SimpleImputer(strategy='mean')),  # We don't have missing numerical values\n",
        "            ('scaler', StandardScaler())\n",
        "        ]), numeric_features),\n",
        "        ('cat', Pipeline(steps=[\n",
        "            ('imputer', SimpleImputer(strategy='most_frequent')),\n",
        "            ('encoder', OneHotEncoder(handle_unknown='ignore'))  # Handle unknown categories\n",
        "        ]), categorical_features)\n",
        "    ]\n",
        ")"
      ]
    },
    {
      "cell_type": "markdown",
      "metadata": {},
      "source": [
        "## Model Training"
      ]
    },
    {
      "cell_type": "code",
      "execution_count": null,
      "metadata": {
        "id": "cIiKu53Bmiw6"
      },
      "outputs": [],
      "source": [
        "# Define pipelines for classification\n",
        "classifiers = {\n",
        "    'RandomForest': Pipeline(steps=[\n",
        "        ('preprocessor', preprocessor),\n",
        "        ('classifier', RandomForestClassifier( class_weight='balanced',random_state=42))\n",
        "    ]),\n",
        "    'SVC': Pipeline(steps=[\n",
        "        ('preprocessor', preprocessor),\n",
        "        ('classifier', SVC( random_state=42))\n",
        "    ])\n",
        "}"
      ]
    },
    {
      "cell_type": "code",
      "execution_count": null,
      "metadata": {
        "id": "2Qe4Byx-KHfF"
      },
      "outputs": [],
      "source": [
        "# Define parameter grids for GridSearchCV with multiple values\n",
        "param_grids = {\n",
        "    'RandomForest':{\n",
        "    'classifier__n_estimators': [100, 200, 300, 500, 700], # Different numbers of trees\n",
        "    'classifier__max_depth': [10, 20, 30, None],           # Different tree depths\n",
        "    'classifier__min_samples_split': [2, 5, 10],           # Split criteria\n",
        "    'classifier__min_samples_leaf': [1, 2, 4],             # Minimum samples per leaf\n",
        "    'classifier__bootstrap': [True, False]                 # Bootstrap or not\n",
        "},\n",
        "\n",
        "\n",
        "'SVC' : {\n",
        "   'classifier__C': [0.1, 1, 10, 100],\n",
        "    'classifier__kernel': ['linear', 'rbf'],\n",
        "    'classifier__gamma': ['scale', 'auto']\n",
        "}\n",
        "}\n",
        "\n",
        "# Define parameter distributions for RandomizedSearchCV\n",
        "param_distributions = {\n",
        "    'RandomForest': {\n",
        "        'classifier__n_estimators': np.random.randint(50, 600, size=10).tolist(),  # Random number of trees\n",
        "        'classifier__max_depth': np.random.randint(10, 40, size=10).tolist(),      # Random depths\n",
        "        'classifier__min_samples_split': np.random.randint(2, 10, size=10).tolist(),  # Random split criteria\n",
        "        'classifier__min_samples_leaf': np.random.randint(1, 5, size=10).tolist(),    # Random minimum samples per leaf\n",
        "        'classifier__bootstrap': [True, False]                                       # Bootstrap or not\n",
        "    },\n",
        "    'SVC': {\n",
        "        'classifier__C': np.random.uniform(0.01, 10, size=10).tolist(),            # Random C values\n",
        "        'classifier__kernel': ['linear', 'rbf'],                                   # Different kernels\n",
        "        'classifier__gamma': np.random.uniform(0.001, 1, size=10).tolist(),        # Random gamma values\n",
        "        'classifier__tol': np.random.uniform(1e-5, 1e-3, size=10).tolist()         # Random tolerance values\n",
        "    }\n",
        "}\n",
        "\n"
      ]
    },
    {
      "cell_type": "code",
      "execution_count": null,
      "metadata": {
        "id": "hh4odNDKmiw6",
        "outputId": "8e6b340b-c529-4e0e-e9be-c805b94c1e40"
      },
      "outputs": [],
      "source": [
        "print(\"Distribution in training set:\")\n",
        "print(np.bincount(y_train))\n",
        "\n",
        "print(\"Distribution in test set:\")\n",
        "print(np.bincount(y_test))\n"
      ]
    },
    {
      "cell_type": "markdown",
      "metadata": {},
      "source": [
        "### No Tuning"
      ]
    },
    {
      "cell_type": "code",
      "execution_count": null,
      "metadata": {
        "id": "9B-UBYjbmiw7",
        "outputId": "fe409900-b6d9-4287-97f4-f4a394070954"
      },
      "outputs": [],
      "source": [
        "for name, model in classifiers.items():\n",
        "    model.fit(X_train, y_train)\n",
        "    y_pred = model.predict(X_test)\n",
        "\n",
        "    # wandb.log({\n",
        "    #     f\"{name}/accuracy\": np.mean(y_pred == y_test),\n",
        "    #     f\"{name}/classification_report\": classification_report(y_test, y_pred, output_dict=True)\n",
        "    # })\n",
        "\n",
        "    print(f\"{name} Accuracy: {np.mean(y_pred == y_test)}\")\n",
        "    print(f\"{name} Classification Report:\")\n",
        "    print(classification_report(y_test, y_pred,zero_division=1))"
      ]
    },
    {
      "cell_type": "markdown",
      "metadata": {},
      "source": [
        "### Grid Search"
      ]
    },
    {
      "cell_type": "code",
      "execution_count": null,
      "metadata": {
        "id": "lRf_Lvd0miw7",
        "outputId": "20b9531c-0526-4943-ce60-ed1f3165c506"
      },
      "outputs": [],
      "source": [
        "#Gridsearch optimization\n",
        "\n",
        "for name, model in classifiers.items():\n",
        "    grid_search = GridSearchCV(estimator=model,\n",
        "                               param_grid=param_grids[name],\n",
        "                               scoring='accuracy',\n",
        "                               cv=2,\n",
        "                               verbose=1,\n",
        "                               n_jobs=-1,\n",
        "                               error_score='raise')\n",
        "    #model.fit(X_train, y_train)\n",
        "    grid_search.fit(X_train, y_train)\n",
        "\n",
        "    #y_pred = model.predict(X_test)\n",
        "    best_model = grid_search.best_estimator_\n",
        "    y_pred = best_model.predict(X_test)\n",
        "\n",
        "   # plot the confusion matrix as a heatmap\n",
        "    cm = confusion_matrix(y_test, y_pred)\n",
        "    ax = sns.heatmap(cm, annot=True, cmap=\"Blues\", fmt=\"d\")\n",
        "    ax.set_title(name + \" Confusion Matrix\")\n",
        "    ax.set_xlabel(\"Predicted Label\")\n",
        "    ax.set_ylabel(\"True Label\")\n",
        "    plt.show()\n",
        "\n",
        "    print(f\"{name} Accuracy: {np.mean(y_pred == y_test)}\")\n",
        "    print(f\"{name} Classification Report:\")\n",
        "    print(classification_report(y_test, y_pred,zero_division=1))\n",
        "    print('Best hyperparameters are: '+str(grid_search.best_estimator_))"
      ]
    },
    {
      "cell_type": "markdown",
      "metadata": {},
      "source": [
        "### Random Search"
      ]
    },
    {
      "cell_type": "code",
      "execution_count": null,
      "metadata": {
        "id": "lfjxOXsvmiw7",
        "outputId": "c8fd977b-fd49-48f8-e941-c620cfb5237f"
      },
      "outputs": [],
      "source": [
        "\n",
        "\n",
        "# RandomizedSearch\n",
        "random_search_rf = RandomizedSearchCV(estimator=classifiers['RandomForest'], param_distributions=param_distributions['RandomForest'], n_iter=20, cv=3, n_jobs=-1, verbose=2, random_state=42)\n",
        "random_search_svc = RandomizedSearchCV(estimator=classifiers['SVC'], param_distributions=param_distributions['SVC'], n_iter=20, cv=3, n_jobs=-1, verbose=2, random_state=42)\n",
        "\n",
        "# RandomizedSearch\n",
        "print(\"Training RandomForest with RandomizedSearchCV...\")\n",
        "random_search_rf.fit(X_train, y_train)\n",
        "\n",
        "print(\"Training SVC with RandomizedSearchCV...\")\n",
        "random_search_svc.fit(X_train, y_train)\n",
        "\n",
        "print(f\"Best parameters for RandomForest: {random_search_rf.best_params_}\")\n",
        "print(f\"Best parameters for SVC: {random_search_svc.best_params_}\")\n",
        "\n",
        "rf_predictions = random_search_rf.predict(X_test)\n",
        "svc_predictions = random_search_svc.predict(X_test)\n",
        "\n",
        "print(\"RandomForest Classification Report (RandomizedSearch):\")\n",
        "print(classification_report(y_test, rf_predictions,zero_division=1))\n",
        "print(f\"Accuracy for RandomForest: {accuracy_score(y_test, rf_predictions)}\")\n",
        "\n",
        "print(\"SVC Classification Report (RandomizedSearch):\")\n",
        "print(classification_report(y_test, svc_predictions, zero_division=1))\n",
        "print(f\"Accuracy for SVC: {accuracy_score(y_test, svc_predictions)}\")\n"
      ]
    },
    {
      "cell_type": "code",
      "execution_count": null,
      "metadata": {
        "id": "f0-vNZIUmiw7",
        "outputId": "72dc3ac8-8d29-4059-ca39-9490019a01e2"
      },
      "outputs": [],
      "source": [
        "from sklearn.model_selection import KFold\n",
        "\n",
        "# Initialize KFold cross-validation\n",
        "kfold = KFold(n_splits=5, shuffle=True, random_state=42)\n",
        "\n",
        "# Define the objective function for Optuna\n",
        "def objective(trial, model_name):\n",
        "    if model_name == 'RandomForest':\n",
        "        n_estimators = trial.suggest_int('n_estimators', 50, 700, step=50)\n",
        "        max_depth = trial.suggest_int('max_depth', 10, 40, step=5)\n",
        "        min_samples_split = trial.suggest_int('min_samples_split', 2, 10)\n",
        "        min_samples_leaf = trial.suggest_int('min_samples_leaf', 1, 5)\n",
        "        bootstrap = trial.suggest_categorical('bootstrap', [True, False])\n",
        "\n",
        "        model = RandomForestClassifier(\n",
        "            n_estimators=n_estimators,\n",
        "            max_depth=max_depth,\n",
        "            min_samples_split=min_samples_split,\n",
        "            min_samples_leaf=min_samples_leaf,\n",
        "            bootstrap=bootstrap,\n",
        "            random_state=42\n",
        "        )\n",
        "    else:  # SVC\n",
        "        C = trial.suggest_float('C', 0.1, 10, log=True)\n",
        "        gamma = trial.suggest_categorical('gamma', ['scale', 'auto'])\n",
        "        kernel = trial.suggest_categorical('kernel', ['linear', 'rbf'])\n",
        "        tol = trial.suggest_float('tol', 1e-5, 1e-3, log=True)\n",
        "\n",
        "        model = SVC(C=C, gamma=gamma, kernel=kernel, tol=tol, random_state=42)\n",
        "\n",
        "    # Perform k-fold cross-validation\n",
        "    scores = []\n",
        "\n",
        "    for train_index, valid_index in kfold.split(X_train):\n",
        "        X_fold_train, X_fold_valid = X_train.iloc[train_index], X_train.iloc[valid_index]\n",
        "        y_fold_train, y_fold_valid = y_train.iloc[train_index], y_train.iloc[valid_index]\n",
        "\n",
        "        # Preprocessing\n",
        "        X_fold_train_processed = preprocessor.fit_transform(X_fold_train)\n",
        "        X_fold_valid_processed = preprocessor.transform(X_fold_valid)\n",
        "\n",
        "        model.fit(X_fold_train_processed, y_fold_train)\n",
        "        y_valid_pred = model.predict(X_fold_valid_processed)\n",
        "        score = accuracy_score(y_fold_valid, y_valid_pred)\n",
        "        scores.append(score)\n",
        "\n",
        "    return np.mean(scores)\n",
        "\n",
        "# List to store results\n",
        "results = []\n",
        "\n",
        "# Optimize hyperparameters for both models\n",
        "for model_name in ['RandomForest', 'SVC']:\n",
        "    print(f\"Starting Optuna optimization for {model_name}...\")\n",
        "    study = optuna.create_study(direction='maximize')\n",
        "    study.optimize(lambda trial: objective(trial, model_name), n_trials=30)\n",
        "\n",
        "    # Print the best parameters and best score\n",
        "    print(f\"Best hyperparameters for {model_name}: {study.best_params}\")\n",
        "    print(f\"Best cross-validated score for {model_name}: {study.best_value}\")\n",
        "\n",
        "    # Train the best model on the entire training set and evaluate\n",
        "    if model_name == 'RandomForest':\n",
        "        best_model = RandomForestClassifier(**study.best_params, random_state=42)\n",
        "    else:\n",
        "        best_model = SVC(**study.best_params, random_state=42)\n",
        "\n",
        "    # Fit the model on the full training data\n",
        "    X_train_processed = preprocessor.fit_transform(X_train)\n",
        "    best_model.fit(X_train_processed, y_train)\n",
        "\n",
        "    # Predict on the test set\n",
        "    X_test_processed = preprocessor.transform(X_test)\n",
        "    y_pred = best_model.predict(X_test_processed)\n",
        "\n",
        "    # Plot the confusion matrix as a heatmap\n",
        "    cm = confusion_matrix(y_test, y_pred)\n",
        "    ax = sns.heatmap(cm, annot=True, cmap=\"Blues\", fmt=\"d\")\n",
        "    ax.set_title(f\"{model_name} Confusion Matrix\")\n",
        "    ax.set_xlabel(\"Predicted Label\")\n",
        "    ax.set_ylabel(\"True Label\")\n",
        "    plt.show()\n",
        "\n",
        "    # Print metrics\n",
        "    accuracy = accuracy_score(y_test, y_pred)\n",
        "    class_report = classification_report(y_test, y_pred, zero_division=1)\n",
        "\n",
        "    print(f\"{model_name} Accuracy: {accuracy:.4f}\")\n",
        "    print(f\"{model_name} Classification Report:\\n{class_report}\")\n",
        "\n",
        "    # Store the results\n",
        "    results.append({\n",
        "        'Model': model_name,\n",
        "        'Best Hyperparameters': study.best_params,\n",
        "        'Accuracy': accuracy,\n",
        "        'Classification Report': class_report\n",
        "    })\n",
        "\n",
        "# Convert results to a DataFrame for display\n",
        "df_results = pd.DataFrame(results)\n",
        "print(df_results[['Model', 'Best Hyperparameters', 'Accuracy']])\n"
      ]
    }
  ],
  "metadata": {
    "colab": {
      "provenance": []
    },
    "kernelspec": {
      "display_name": "Python 3",
      "name": "python3"
    },
    "language_info": {
      "codemirror_mode": {
        "name": "ipython",
        "version": 3
      },
      "file_extension": ".py",
      "mimetype": "text/x-python",
      "name": "python",
      "nbconvert_exporter": "python",
      "pygments_lexer": "ipython3",
      "version": "3.13.0"
    }
  },
  "nbformat": 4,
  "nbformat_minor": 0
}
